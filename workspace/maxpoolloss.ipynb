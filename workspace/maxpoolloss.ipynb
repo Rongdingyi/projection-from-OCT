{
 "metadata": {
  "language_info": {
   "codemirror_mode": {
    "name": "ipython",
    "version": 3
   },
   "file_extension": ".py",
   "mimetype": "text/x-python",
   "name": "python",
   "nbconvert_exporter": "python",
   "pygments_lexer": "ipython3",
   "version": "3.8.8"
  },
  "orig_nbformat": 2,
  "kernelspec": {
   "name": "python388jvsc74a57bd06a6e529157cb82303d612b4dc8932ade8648ddbe84cd168675f51eb80bb3a033",
   "display_name": "Python 3.8.8 64-bit ('med': conda)"
  },
  "metadata": {
   "interpreter": {
    "hash": "6a6e529157cb82303d612b4dc8932ade8648ddbe84cd168675f51eb80bb3a033"
   }
  }
 },
 "nbformat": 4,
 "nbformat_minor": 2,
 "cells": [
  {
   "cell_type": "code",
   "execution_count": null,
   "metadata": {},
   "outputs": [],
   "source": [
    "import torch.nn as nn\n",
    "import torch.nn.functional as F\n",
    "import torch\n",
    "import numpy as np\n",
    "from torch.autograd import Variable+"
   ]
  },
  {
   "cell_type": "code",
   "execution_count": 2,
   "metadata": {},
   "outputs": [],
   "source": [
    "class MaxPoolLoss(nn.Module):\n",
    "    def __init__(self, height=10, weight=400):\n",
    "        super(MaxPoolLoss, self).__init__()\n",
    "        self.height = height\n",
    "        self.weight = weight\n",
    "\n",
    "    def forward(self, input, predict, target, device):\n",
    "        assert predict.shape[0] == target.shape[0], \"predict & target batch size don't match\"\n",
    "        batch_size = input.size(0)\n",
    "        # predict = F.interpolate(predict, size=[self.height, self.weight], mode='bicubic', align_corners=True)\n",
    "        predict = (predict*640 - 320)/320\n",
    "        predict = predict.squeeze(1)\n",
    "        grid = torch.zeros((batch_size, self.height, self.weight, 2), requires_grad=True).to(device)\n",
    "        grid[:,:,:,1] = predict\n",
    "        grid[:,:,:,0] = torch.linspace(-1, 1, steps=400)\n",
    "        outp = torch.zeros((batch_size, 3, self.height, self.weight), requires_grad=True).to(device)\n",
    "        outp = F.grid_sample(input , grid, mode='bilinear', padding_mode='zeros', align_corners=True)\n",
    "        max = torch.zeros((batch_size, 3, self.weight), requires_grad=True).to(device)\n",
    "        max, index = torch.max(outp, dim=2, keepdim=False, out=None)\n",
    "        max = max.unsqueeze(dim=2).to(device)\n",
    "        # max = Variable(max,requires_grad=True).cuda()\n",
    "        loss = F.smooth_l1_loss(max*255, target)\n",
    "\n",
    "        return loss\n",
    "    # def forward(self, predict, target):\n",
    "    #     # predict = torch.nn.functional.upsample_bilinear(predict, size=[self.height, self.weight])\n",
    "    #     # print(predict)\n",
    "    #     predict = predict * 255\n",
    "    #     print(target[:,0,:,:].shape)\n",
    "    #     loss = F.smooth_l1_loss(predict, target[:,0,:,:].unsqueeze(1))\n",
    "    #     return loss"
   ]
  }
 ]
}